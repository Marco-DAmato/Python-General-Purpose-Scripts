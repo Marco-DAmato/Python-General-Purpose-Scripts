{
 "cells": [
  {
   "cell_type": "markdown",
   "id": "b6ef11bc-01bb-458b-88f6-4f622dce5201",
   "metadata": {},
   "source": [
    "Connect to the database\n",
    "\n",
    "Let us now load the ipython-sql extension and establish a connection with the database\n"
   ]
  },
  {
   "cell_type": "code",
   "execution_count": null,
   "id": "a7a9cbb1-4673-42b6-a55a-3f229d2c10f7",
   "metadata": {},
   "outputs": [],
   "source": [
    "!pip install sqlalchemy==1.3.9\n",
    "\n",
    "!pip install ibm_db_sa"
   ]
  },
  {
   "cell_type": "code",
   "execution_count": null,
   "id": "3082f43c-fa56-4648-abf8-1b5737398f2f",
   "metadata": {},
   "outputs": [],
   "source": [
    "%load_ext sql\n",
    "\n",
    "# Enter the connection string for your Db2 on Cloud database instance below\n",
    "\n",
    "# %sql ibm_db_sa://my-username:my-password@my-hostname:my-port/my-db-name?security=SSL\n",
    "\n",
    "%sql ibm_db_sa://pxg97707:7kepN6dBWzvCkKCu@0c77d6f2-5da9-48a9-81f8-86b520b87518.bs2io90l08kqb1od8lcg.databases.appdomain.cloud:31198/bludb?security=SSL"
   ]
  },
  {
   "cell_type": "markdown",
   "id": "49af2924-d250-4dc0-becf-5450a3a25e55",
   "metadata": {},
   "source": [
    "Query the database system catalog to retrieve table metadata\n",
    "You can verify that the table creation was successful by retrieving the list of all tables in your schema and checking whether the SCHOOLS table was created\n"
   ]
  },
  {
   "cell_type": "code",
   "execution_count": null,
   "id": "cf19cd7b-49af-4757-bf3d-7f46ed7d3269",
   "metadata": {},
   "outputs": [],
   "source": [
    "# type in your query to retrieve list of all tables in the database for your db2 schema (username)\n",
    "%sql select TABSCHEMA, TABNAME, CREATE_TIME from SYSCAT.TABLES \\\n",
    "      where TABSCHEMA not in ('SYSIBM', 'SYSCAT', 'SYSSTAT', 'SYSIBMADM', 'SYSTOOLS', 'SYSPUBLIC')"
   ]
  },
  {
   "cell_type": "markdown",
   "id": "56178b4f-b16f-4655-9d26-562f82797a63",
   "metadata": {},
   "source": [
    "Query the database system catalog to retrieve column metadata\n",
    "The SCHOOLS table contains a large number of columns. How many columns does this table have?"
   ]
  },
  {
   "cell_type": "code",
   "execution_count": null,
   "id": "6f2db385-9710-4744-bba6-275d9076211a",
   "metadata": {},
   "outputs": [],
   "source": [
    "# type in your query to retrieve the number of columns in the CHICAGO_CRIME_DATA table\n",
    "%sql select count(*) from SYSCAT.COLUMNS where TABNAME = 'CHICAGO_CRIME_DATA'"
   ]
  },
  {
   "cell_type": "markdown",
   "id": "f319a83d-6812-494e-8cd7-8faf4fc2f848",
   "metadata": {},
   "source": [
    "Now retrieve the the list of columns in SCHOOLS table and their column type (datatype) and length."
   ]
  },
  {
   "cell_type": "code",
   "execution_count": null,
   "id": "cfe33e06-353d-4dda-9354-0ead92b903c8",
   "metadata": {},
   "outputs": [],
   "source": [
    "# type in your query to retrieve all column names in the CHICAGO_CRIME_DATA table along with their datatypes and length\n",
    "%sql select COLNAME, TYPENAME, LENGTH from SYSCAT.COLUMNS where TABNAME = 'CHICAGO_CRIME_DATA'"
   ]
  },
  {
   "cell_type": "markdown",
   "id": "fe40a90b-4802-48d1-a951-8e5dafe0bd5d",
   "metadata": {},
   "source": [
    "Problem 1: Find the total number of crimes recorded in the CRIME table."
   ]
  },
  {
   "cell_type": "code",
   "execution_count": null,
   "id": "78137c90-98a8-4e28-91e9-8a6538c8e2e6",
   "metadata": {},
   "outputs": [],
   "source": [
    "%sql select distinct(count(*)) from CHICAGO_CRIME_DATA;"
   ]
  },
  {
   "cell_type": "markdown",
   "id": "96968c5f-6daa-4246-adef-7903f42040d0",
   "metadata": {},
   "source": [
    "Problem 2: List community areas with per capita income less than 11000."
   ]
  },
  {
   "cell_type": "code",
   "execution_count": null,
   "id": "bcaefd42-bcff-4eb8-acc4-c6e229d2e8dd",
   "metadata": {},
   "outputs": [],
   "source": [
    "%sql select community_area_name, per_capita_income from CENSUS_DATA where per_capita_income < 11000;"
   ]
  },
  {
   "cell_type": "markdown",
   "id": "be2278a6-8b1f-4a9a-b9f6-892307f87e16",
   "metadata": {},
   "source": [
    "Problem 3: List all case numbers for crimes involving minors?"
   ]
  },
  {
   "cell_type": "code",
   "execution_count": null,
   "id": "c3f6d854-0dc3-441d-a4dd-fe7478433484",
   "metadata": {},
   "outputs": [],
   "source": [
    "%sql select case_number from CHICAGO_CRIME_DATA where description like  '%MINOR%';"
   ]
  },
  {
   "cell_type": "markdown",
   "id": "c6f3d42d-e1ea-4e72-a7c7-0839babb5ae8",
   "metadata": {},
   "source": [
    "Problem 4: List all kidnapping crimes involving a child?(children are not considered minors for the purposes of crime analysis)"
   ]
  },
  {
   "cell_type": "code",
   "execution_count": null,
   "id": "6ab09f86-e560-4df1-9800-87430add2729",
   "metadata": {},
   "outputs": [],
   "source": [
    "%sql select * from CHICAGO_CRIME_DATA where primary_type='KIDNAPPING' and description like '%CHILD%';"
   ]
  },
  {
   "cell_type": "markdown",
   "id": "372a7127-a0f9-4a39-b280-b05a27f82381",
   "metadata": {},
   "source": [
    "Problem 5: What kind of crimes were recorded at schools?"
   ]
  },
  {
   "cell_type": "code",
   "execution_count": null,
   "id": "202a173e-7787-4863-a952-f3b4d6db505d",
   "metadata": {},
   "outputs": [],
   "source": [
    "%sql select name_of_school, primary_type from CHICAGO_CRIME_DATA c, CHICAGO_PUBLIC_SCHOOLS s\\\n",
    "where c.community_area_number = s.community_area_number limit 5;"
   ]
  },
  {
   "cell_type": "markdown",
   "id": "cad928f5-b75a-4782-861f-3c49c876d3e0",
   "metadata": {},
   "source": [
    "Problem 6: List the average safety score for all types of schools."
   ]
  },
  {
   "cell_type": "code",
   "execution_count": null,
   "id": "6f656f17-af0c-4565-97f0-372d9cc5e96a",
   "metadata": {},
   "outputs": [],
   "source": [
    "%sql select \"Elementary, Middle, or High School\", avg(safety_score) as average_safety_score from CHICAGO_PUBLIC_SCHOOLS group by \"Elementary, Middle, or High School\";"
   ]
  },
  {
   "cell_type": "markdown",
   "id": "6970b638-387f-4eff-97ac-f9038c346504",
   "metadata": {},
   "source": [
    "Problem 7: List 5 community areas with highest % of households below poverty line."
   ]
  },
  {
   "cell_type": "code",
   "execution_count": null,
   "id": "32026e75-1ea3-4f99-8d5f-93c5ed99f9c3",
   "metadata": {},
   "outputs": [],
   "source": [
    "%sql select community_area_name, percent_households_below_poverty from CENSUS_DATA\\\n",
    "order by percent_households_below_poverty desc nulls last limit 5;"
   ]
  },
  {
   "cell_type": "markdown",
   "id": "a040cd87-621d-4a9f-bfd2-5d813cbf656a",
   "metadata": {},
   "source": [
    "Problem 8: Which community area(number) is most crime prone?"
   ]
  },
  {
   "cell_type": "code",
   "execution_count": null,
   "id": "53e19214-347e-4dd0-b071-c378743bcc5c",
   "metadata": {},
   "outputs": [],
   "source": [
    "%sql select community_area_number, count(*) as Number_of_Crime from CHICAGO_CRIME_DATA group by community_area_number\\\n",
    "order by number_of_crime desc limit 1;"
   ]
  },
  {
   "cell_type": "markdown",
   "id": "3caff915-d52b-4bbe-965a-1317305985ce",
   "metadata": {},
   "source": [
    "Problem 9: Use a sub-query to find the name of the community area with highest hardship index."
   ]
  },
  {
   "cell_type": "code",
   "execution_count": null,
   "id": "89814008-12a9-4f43-a7b6-e929e877e2a3",
   "metadata": {},
   "outputs": [],
   "source": [
    "%sql select community_area_name from CENSUS_DATA\\\n",
    "where hardship_index = (select max(hardship_index) from CENSUS_DATA)"
   ]
  },
  {
   "cell_type": "markdown",
   "id": "3d755c71-ba4e-4006-9e5c-208622348992",
   "metadata": {},
   "source": [
    "Problem 10: Use a sub-query to determine the Community Area Name with most number of crimes?"
   ]
  },
  {
   "cell_type": "code",
   "execution_count": null,
   "id": "f139463d-a246-43f2-af36-5172a45dc828",
   "metadata": {},
   "outputs": [],
   "source": [
    "%sql create view num_crime as\\\n",
    "select community_area_number, count(*) as number_of_crime\\\n",
    "from CHICAGO_CRIME_DATA group by community_area_number;\n",
    "#num_crime = %sql select community_area_number, count(*) as Number_of_Crime from crime group by community_area_number\n",
    "%sql select * from num_crime limit 5;"
   ]
  },
  {
   "cell_type": "code",
   "execution_count": null,
   "id": "af659696-139b-4acb-a8ce-c71ab6287407",
   "metadata": {},
   "outputs": [],
   "source": [
    "%sql select community_area_name from CENSUS_DATA\n",
    "    where community_area_number = (select community_area_number from (select community_area_number, count(select community_area_number) as occur\n",
    "    from chicago_crime_data\n",
    "    group by community_area_number   \n",
    "    order by occur desc\n",
    "    lim 1))                               \n",
    "                                   "
   ]
  },
  {
   "cell_type": "code",
   "execution_count": null,
   "id": "f95e5e60-abc2-4c02-86e4-3e4314559686",
   "metadata": {},
   "outputs": [],
   "source": []
  }
 ],
 "metadata": {
  "kernelspec": {
   "display_name": "Python 3",
   "language": "python",
   "name": "python3"
  },
  "language_info": {
   "codemirror_mode": {
    "name": "ipython",
    "version": 3
   },
   "file_extension": ".py",
   "mimetype": "text/x-python",
   "name": "python",
   "nbconvert_exporter": "python",
   "pygments_lexer": "ipython3",
   "version": "3.8.8"
  }
 },
 "nbformat": 4,
 "nbformat_minor": 5
}
